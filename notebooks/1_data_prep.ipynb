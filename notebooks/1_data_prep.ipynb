{
 "cells": [
  {
   "cell_type": "code",
   "execution_count": 2,
   "id": "downtown-circle",
   "metadata": {},
   "outputs": [],
   "source": [
    "# 2.   Load and Explore Dataset"
   ]
  },
  {
   "cell_type": "markdown",
   "id": "modular-monaco",
   "metadata": {},
   "source": [
    "Import the pandas and numpy package"
   ]
  },
  {
   "cell_type": "code",
   "execution_count": 4,
   "id": "fluid-client",
   "metadata": {},
   "outputs": [],
   "source": [
    "import pandas as pd\n",
    "import numpy as np"
   ]
  },
  {
   "cell_type": "markdown",
   "id": "restricted-interstate",
   "metadata": {},
   "source": [
    "Load the dataset into dataframe called df"
   ]
  },
  {
   "cell_type": "code",
   "execution_count": 5,
   "id": "scientific-insulin",
   "metadata": {},
   "outputs": [],
   "source": [
    "df = pd.read_csv('../data/raw/day.csv')"
   ]
  },
  {
   "cell_type": "markdown",
   "id": "underlying-header",
   "metadata": {},
   "source": [
    "Display the first 5 rows of df"
   ]
  },
  {
   "cell_type": "code",
   "execution_count": 6,
   "id": "facial-hydrogen",
   "metadata": {},
   "outputs": [
    {
     "data": {
      "text/html": [
       "<div>\n",
       "<style scoped>\n",
       "    .dataframe tbody tr th:only-of-type {\n",
       "        vertical-align: middle;\n",
       "    }\n",
       "\n",
       "    .dataframe tbody tr th {\n",
       "        vertical-align: top;\n",
       "    }\n",
       "\n",
       "    .dataframe thead th {\n",
       "        text-align: right;\n",
       "    }\n",
       "</style>\n",
       "<table border=\"1\" class=\"dataframe\">\n",
       "  <thead>\n",
       "    <tr style=\"text-align: right;\">\n",
       "      <th></th>\n",
       "      <th>instant</th>\n",
       "      <th>dteday</th>\n",
       "      <th>season</th>\n",
       "      <th>yr</th>\n",
       "      <th>mnth</th>\n",
       "      <th>holiday</th>\n",
       "      <th>weekday</th>\n",
       "      <th>workingday</th>\n",
       "      <th>weathersit</th>\n",
       "      <th>temp</th>\n",
       "      <th>atemp</th>\n",
       "      <th>hum</th>\n",
       "      <th>windspeed</th>\n",
       "      <th>casual</th>\n",
       "      <th>registered</th>\n",
       "      <th>cnt</th>\n",
       "    </tr>\n",
       "  </thead>\n",
       "  <tbody>\n",
       "    <tr>\n",
       "      <th>0</th>\n",
       "      <td>1</td>\n",
       "      <td>2011-01-01</td>\n",
       "      <td>1</td>\n",
       "      <td>0</td>\n",
       "      <td>1</td>\n",
       "      <td>0</td>\n",
       "      <td>6</td>\n",
       "      <td>0</td>\n",
       "      <td>2</td>\n",
       "      <td>0.344167</td>\n",
       "      <td>0.363625</td>\n",
       "      <td>0.805833</td>\n",
       "      <td>0.160446</td>\n",
       "      <td>331</td>\n",
       "      <td>654</td>\n",
       "      <td>985</td>\n",
       "    </tr>\n",
       "    <tr>\n",
       "      <th>1</th>\n",
       "      <td>2</td>\n",
       "      <td>2011-01-02</td>\n",
       "      <td>1</td>\n",
       "      <td>0</td>\n",
       "      <td>1</td>\n",
       "      <td>0</td>\n",
       "      <td>0</td>\n",
       "      <td>0</td>\n",
       "      <td>2</td>\n",
       "      <td>0.363478</td>\n",
       "      <td>0.353739</td>\n",
       "      <td>0.696087</td>\n",
       "      <td>0.248539</td>\n",
       "      <td>131</td>\n",
       "      <td>670</td>\n",
       "      <td>801</td>\n",
       "    </tr>\n",
       "    <tr>\n",
       "      <th>2</th>\n",
       "      <td>3</td>\n",
       "      <td>2011-01-03</td>\n",
       "      <td>1</td>\n",
       "      <td>0</td>\n",
       "      <td>1</td>\n",
       "      <td>0</td>\n",
       "      <td>1</td>\n",
       "      <td>1</td>\n",
       "      <td>1</td>\n",
       "      <td>0.196364</td>\n",
       "      <td>0.189405</td>\n",
       "      <td>0.437273</td>\n",
       "      <td>0.248309</td>\n",
       "      <td>120</td>\n",
       "      <td>1229</td>\n",
       "      <td>1349</td>\n",
       "    </tr>\n",
       "    <tr>\n",
       "      <th>3</th>\n",
       "      <td>4</td>\n",
       "      <td>2011-01-04</td>\n",
       "      <td>1</td>\n",
       "      <td>0</td>\n",
       "      <td>1</td>\n",
       "      <td>0</td>\n",
       "      <td>2</td>\n",
       "      <td>1</td>\n",
       "      <td>1</td>\n",
       "      <td>0.200000</td>\n",
       "      <td>0.212122</td>\n",
       "      <td>0.590435</td>\n",
       "      <td>0.160296</td>\n",
       "      <td>108</td>\n",
       "      <td>1454</td>\n",
       "      <td>1562</td>\n",
       "    </tr>\n",
       "    <tr>\n",
       "      <th>4</th>\n",
       "      <td>5</td>\n",
       "      <td>2011-01-05</td>\n",
       "      <td>1</td>\n",
       "      <td>0</td>\n",
       "      <td>1</td>\n",
       "      <td>0</td>\n",
       "      <td>3</td>\n",
       "      <td>1</td>\n",
       "      <td>1</td>\n",
       "      <td>0.226957</td>\n",
       "      <td>0.229270</td>\n",
       "      <td>0.436957</td>\n",
       "      <td>0.186900</td>\n",
       "      <td>82</td>\n",
       "      <td>1518</td>\n",
       "      <td>1600</td>\n",
       "    </tr>\n",
       "  </tbody>\n",
       "</table>\n",
       "</div>"
      ],
      "text/plain": [
       "   instant      dteday  season  yr  mnth  holiday  weekday  workingday  \\\n",
       "0        1  2011-01-01       1   0     1        0        6           0   \n",
       "1        2  2011-01-02       1   0     1        0        0           0   \n",
       "2        3  2011-01-03       1   0     1        0        1           1   \n",
       "3        4  2011-01-04       1   0     1        0        2           1   \n",
       "4        5  2011-01-05       1   0     1        0        3           1   \n",
       "\n",
       "   weathersit      temp     atemp       hum  windspeed  casual  registered  \\\n",
       "0           2  0.344167  0.363625  0.805833   0.160446     331         654   \n",
       "1           2  0.363478  0.353739  0.696087   0.248539     131         670   \n",
       "2           1  0.196364  0.189405  0.437273   0.248309     120        1229   \n",
       "3           1  0.200000  0.212122  0.590435   0.160296     108        1454   \n",
       "4           1  0.226957  0.229270  0.436957   0.186900      82        1518   \n",
       "\n",
       "    cnt  \n",
       "0   985  \n",
       "1   801  \n",
       "2  1349  \n",
       "3  1562  \n",
       "4  1600  "
      ]
     },
     "execution_count": 6,
     "metadata": {},
     "output_type": "execute_result"
    }
   ],
   "source": [
    "df.head()"
   ]
  },
  {
   "cell_type": "markdown",
   "id": "convertible-latitude",
   "metadata": {},
   "source": [
    "Display the dimensions (shape) of df"
   ]
  },
  {
   "cell_type": "code",
   "execution_count": 7,
   "id": "spanish-browser",
   "metadata": {},
   "outputs": [
    {
     "data": {
      "text/plain": [
       "(731, 16)"
      ]
     },
     "execution_count": 7,
     "metadata": {},
     "output_type": "execute_result"
    }
   ],
   "source": [
    "df.shape"
   ]
  },
  {
   "cell_type": "markdown",
   "id": "signed-couple",
   "metadata": {},
   "source": [
    "Display the summary (info) of df"
   ]
  },
  {
   "cell_type": "code",
   "execution_count": 8,
   "id": "sunrise-tender",
   "metadata": {},
   "outputs": [
    {
     "name": "stdout",
     "output_type": "stream",
     "text": [
      "<class 'pandas.core.frame.DataFrame'>\n",
      "RangeIndex: 731 entries, 0 to 730\n",
      "Data columns (total 16 columns):\n",
      " #   Column      Non-Null Count  Dtype  \n",
      "---  ------      --------------  -----  \n",
      " 0   instant     731 non-null    int64  \n",
      " 1   dteday      731 non-null    object \n",
      " 2   season      731 non-null    int64  \n",
      " 3   yr          731 non-null    int64  \n",
      " 4   mnth        731 non-null    int64  \n",
      " 5   holiday     731 non-null    int64  \n",
      " 6   weekday     731 non-null    int64  \n",
      " 7   workingday  731 non-null    int64  \n",
      " 8   weathersit  731 non-null    int64  \n",
      " 9   temp        731 non-null    float64\n",
      " 10  atemp       731 non-null    float64\n",
      " 11  hum         731 non-null    float64\n",
      " 12  windspeed   731 non-null    float64\n",
      " 13  casual      731 non-null    int64  \n",
      " 14  registered  731 non-null    int64  \n",
      " 15  cnt         731 non-null    int64  \n",
      "dtypes: float64(4), int64(11), object(1)\n",
      "memory usage: 91.5+ KB\n"
     ]
    }
   ],
   "source": [
    "df.info()"
   ]
  },
  {
   "cell_type": "markdown",
   "id": "nasty-feedback",
   "metadata": {},
   "source": [
    "Display the descriptive statictics of df"
   ]
  },
  {
   "cell_type": "code",
   "execution_count": 9,
   "id": "musical-tucson",
   "metadata": {},
   "outputs": [
    {
     "data": {
      "text/html": [
       "<div>\n",
       "<style scoped>\n",
       "    .dataframe tbody tr th:only-of-type {\n",
       "        vertical-align: middle;\n",
       "    }\n",
       "\n",
       "    .dataframe tbody tr th {\n",
       "        vertical-align: top;\n",
       "    }\n",
       "\n",
       "    .dataframe thead th {\n",
       "        text-align: right;\n",
       "    }\n",
       "</style>\n",
       "<table border=\"1\" class=\"dataframe\">\n",
       "  <thead>\n",
       "    <tr style=\"text-align: right;\">\n",
       "      <th></th>\n",
       "      <th>instant</th>\n",
       "      <th>season</th>\n",
       "      <th>yr</th>\n",
       "      <th>mnth</th>\n",
       "      <th>holiday</th>\n",
       "      <th>weekday</th>\n",
       "      <th>workingday</th>\n",
       "      <th>weathersit</th>\n",
       "      <th>temp</th>\n",
       "      <th>atemp</th>\n",
       "      <th>hum</th>\n",
       "      <th>windspeed</th>\n",
       "      <th>casual</th>\n",
       "      <th>registered</th>\n",
       "      <th>cnt</th>\n",
       "    </tr>\n",
       "  </thead>\n",
       "  <tbody>\n",
       "    <tr>\n",
       "      <th>count</th>\n",
       "      <td>731.000000</td>\n",
       "      <td>731.000000</td>\n",
       "      <td>731.000000</td>\n",
       "      <td>731.000000</td>\n",
       "      <td>731.000000</td>\n",
       "      <td>731.000000</td>\n",
       "      <td>731.000000</td>\n",
       "      <td>731.000000</td>\n",
       "      <td>731.000000</td>\n",
       "      <td>731.000000</td>\n",
       "      <td>731.000000</td>\n",
       "      <td>731.000000</td>\n",
       "      <td>731.000000</td>\n",
       "      <td>731.000000</td>\n",
       "      <td>731.000000</td>\n",
       "    </tr>\n",
       "    <tr>\n",
       "      <th>mean</th>\n",
       "      <td>366.000000</td>\n",
       "      <td>2.496580</td>\n",
       "      <td>0.500684</td>\n",
       "      <td>6.519836</td>\n",
       "      <td>0.028728</td>\n",
       "      <td>2.997264</td>\n",
       "      <td>0.683995</td>\n",
       "      <td>1.395349</td>\n",
       "      <td>0.495385</td>\n",
       "      <td>0.474354</td>\n",
       "      <td>0.627894</td>\n",
       "      <td>0.190486</td>\n",
       "      <td>848.176471</td>\n",
       "      <td>3656.172367</td>\n",
       "      <td>4504.348837</td>\n",
       "    </tr>\n",
       "    <tr>\n",
       "      <th>std</th>\n",
       "      <td>211.165812</td>\n",
       "      <td>1.110807</td>\n",
       "      <td>0.500342</td>\n",
       "      <td>3.451913</td>\n",
       "      <td>0.167155</td>\n",
       "      <td>2.004787</td>\n",
       "      <td>0.465233</td>\n",
       "      <td>0.544894</td>\n",
       "      <td>0.183051</td>\n",
       "      <td>0.162961</td>\n",
       "      <td>0.142429</td>\n",
       "      <td>0.077498</td>\n",
       "      <td>686.622488</td>\n",
       "      <td>1560.256377</td>\n",
       "      <td>1937.211452</td>\n",
       "    </tr>\n",
       "    <tr>\n",
       "      <th>min</th>\n",
       "      <td>1.000000</td>\n",
       "      <td>1.000000</td>\n",
       "      <td>0.000000</td>\n",
       "      <td>1.000000</td>\n",
       "      <td>0.000000</td>\n",
       "      <td>0.000000</td>\n",
       "      <td>0.000000</td>\n",
       "      <td>1.000000</td>\n",
       "      <td>0.059130</td>\n",
       "      <td>0.079070</td>\n",
       "      <td>0.000000</td>\n",
       "      <td>0.022392</td>\n",
       "      <td>2.000000</td>\n",
       "      <td>20.000000</td>\n",
       "      <td>22.000000</td>\n",
       "    </tr>\n",
       "    <tr>\n",
       "      <th>25%</th>\n",
       "      <td>183.500000</td>\n",
       "      <td>2.000000</td>\n",
       "      <td>0.000000</td>\n",
       "      <td>4.000000</td>\n",
       "      <td>0.000000</td>\n",
       "      <td>1.000000</td>\n",
       "      <td>0.000000</td>\n",
       "      <td>1.000000</td>\n",
       "      <td>0.337083</td>\n",
       "      <td>0.337842</td>\n",
       "      <td>0.520000</td>\n",
       "      <td>0.134950</td>\n",
       "      <td>315.500000</td>\n",
       "      <td>2497.000000</td>\n",
       "      <td>3152.000000</td>\n",
       "    </tr>\n",
       "    <tr>\n",
       "      <th>50%</th>\n",
       "      <td>366.000000</td>\n",
       "      <td>3.000000</td>\n",
       "      <td>1.000000</td>\n",
       "      <td>7.000000</td>\n",
       "      <td>0.000000</td>\n",
       "      <td>3.000000</td>\n",
       "      <td>1.000000</td>\n",
       "      <td>1.000000</td>\n",
       "      <td>0.498333</td>\n",
       "      <td>0.486733</td>\n",
       "      <td>0.626667</td>\n",
       "      <td>0.180975</td>\n",
       "      <td>713.000000</td>\n",
       "      <td>3662.000000</td>\n",
       "      <td>4548.000000</td>\n",
       "    </tr>\n",
       "    <tr>\n",
       "      <th>75%</th>\n",
       "      <td>548.500000</td>\n",
       "      <td>3.000000</td>\n",
       "      <td>1.000000</td>\n",
       "      <td>10.000000</td>\n",
       "      <td>0.000000</td>\n",
       "      <td>5.000000</td>\n",
       "      <td>1.000000</td>\n",
       "      <td>2.000000</td>\n",
       "      <td>0.655417</td>\n",
       "      <td>0.608602</td>\n",
       "      <td>0.730209</td>\n",
       "      <td>0.233214</td>\n",
       "      <td>1096.000000</td>\n",
       "      <td>4776.500000</td>\n",
       "      <td>5956.000000</td>\n",
       "    </tr>\n",
       "    <tr>\n",
       "      <th>max</th>\n",
       "      <td>731.000000</td>\n",
       "      <td>4.000000</td>\n",
       "      <td>1.000000</td>\n",
       "      <td>12.000000</td>\n",
       "      <td>1.000000</td>\n",
       "      <td>6.000000</td>\n",
       "      <td>1.000000</td>\n",
       "      <td>3.000000</td>\n",
       "      <td>0.861667</td>\n",
       "      <td>0.840896</td>\n",
       "      <td>0.972500</td>\n",
       "      <td>0.507463</td>\n",
       "      <td>3410.000000</td>\n",
       "      <td>6946.000000</td>\n",
       "      <td>8714.000000</td>\n",
       "    </tr>\n",
       "  </tbody>\n",
       "</table>\n",
       "</div>"
      ],
      "text/plain": [
       "          instant      season          yr        mnth     holiday     weekday  \\\n",
       "count  731.000000  731.000000  731.000000  731.000000  731.000000  731.000000   \n",
       "mean   366.000000    2.496580    0.500684    6.519836    0.028728    2.997264   \n",
       "std    211.165812    1.110807    0.500342    3.451913    0.167155    2.004787   \n",
       "min      1.000000    1.000000    0.000000    1.000000    0.000000    0.000000   \n",
       "25%    183.500000    2.000000    0.000000    4.000000    0.000000    1.000000   \n",
       "50%    366.000000    3.000000    1.000000    7.000000    0.000000    3.000000   \n",
       "75%    548.500000    3.000000    1.000000   10.000000    0.000000    5.000000   \n",
       "max    731.000000    4.000000    1.000000   12.000000    1.000000    6.000000   \n",
       "\n",
       "       workingday  weathersit        temp       atemp         hum   windspeed  \\\n",
       "count  731.000000  731.000000  731.000000  731.000000  731.000000  731.000000   \n",
       "mean     0.683995    1.395349    0.495385    0.474354    0.627894    0.190486   \n",
       "std      0.465233    0.544894    0.183051    0.162961    0.142429    0.077498   \n",
       "min      0.000000    1.000000    0.059130    0.079070    0.000000    0.022392   \n",
       "25%      0.000000    1.000000    0.337083    0.337842    0.520000    0.134950   \n",
       "50%      1.000000    1.000000    0.498333    0.486733    0.626667    0.180975   \n",
       "75%      1.000000    2.000000    0.655417    0.608602    0.730209    0.233214   \n",
       "max      1.000000    3.000000    0.861667    0.840896    0.972500    0.507463   \n",
       "\n",
       "            casual   registered          cnt  \n",
       "count   731.000000   731.000000   731.000000  \n",
       "mean    848.176471  3656.172367  4504.348837  \n",
       "std     686.622488  1560.256377  1937.211452  \n",
       "min       2.000000    20.000000    22.000000  \n",
       "25%     315.500000  2497.000000  3152.000000  \n",
       "50%     713.000000  3662.000000  4548.000000  \n",
       "75%    1096.000000  4776.500000  5956.000000  \n",
       "max    3410.000000  6946.000000  8714.000000  "
      ]
     },
     "execution_count": 9,
     "metadata": {},
     "output_type": "execute_result"
    }
   ],
   "source": [
    "df.describe()"
   ]
  },
  {
   "cell_type": "markdown",
   "id": "sealed-script",
   "metadata": {},
   "source": [
    "# 3. Prepare Data"
   ]
  },
  {
   "cell_type": "markdown",
   "id": "duplicate-anthropology",
   "metadata": {},
   "source": [
    "Create a copy of df and save it into a variable called df_cleaned"
   ]
  },
  {
   "cell_type": "code",
   "execution_count": 21,
   "id": "departmental-improvement",
   "metadata": {},
   "outputs": [],
   "source": [
    "df_cleaned = df.copy()"
   ]
  },
  {
   "cell_type": "markdown",
   "id": "legal-mayor",
   "metadata": {},
   "source": [
    "Remove the column instant from the dataframe"
   ]
  },
  {
   "cell_type": "code",
   "execution_count": 22,
   "id": "fifty-college",
   "metadata": {},
   "outputs": [],
   "source": [
    "df_cleaned.drop('instant', axis=1, inplace=True)"
   ]
  },
  {
   "cell_type": "markdown",
   "id": "empty-alcohol",
   "metadata": {},
   "source": [
    " Launch magic commands to automatically reload modules"
   ]
  },
  {
   "cell_type": "code",
   "execution_count": 23,
   "id": "athletic-governor",
   "metadata": {},
   "outputs": [
    {
     "name": "stdout",
     "output_type": "stream",
     "text": [
      "The autoreload extension is already loaded. To reload it, use:\n",
      "  %reload_ext autoreload\n"
     ]
    }
   ],
   "source": [
    "%load_ext autoreload\n",
    "%autoreload 2"
   ]
  },
  {
   "cell_type": "markdown",
   "id": "certain-findings",
   "metadata": {},
   "source": [
    "Import your new function convert_to_date from src.features.dates"
   ]
  },
  {
   "cell_type": "code",
   "execution_count": 24,
   "id": "collected-halifax",
   "metadata": {},
   "outputs": [],
   "source": [
    "from src.features.dates import convert_to_date"
   ]
  },
  {
   "cell_type": "markdown",
   "id": "stable-bunny",
   "metadata": {},
   "source": [
    "Task: Convert the column dteday with your function convert_to_date"
   ]
  },
  {
   "cell_type": "code",
   "execution_count": 25,
   "id": "superior-karma",
   "metadata": {},
   "outputs": [],
   "source": [
    "df_cleaned = convert_to_date(df_cleaned, ['dteday'])"
   ]
  },
  {
   "cell_type": "markdown",
   "id": "permanent-shoulder",
   "metadata": {},
   "source": [
    "Extract the year component from `dteday` and save the results in the column `yr`"
   ]
  },
  {
   "cell_type": "code",
   "execution_count": 26,
   "id": "wired-museum",
   "metadata": {},
   "outputs": [],
   "source": [
    "df_cleaned['yr'] = df_cleaned['dteday'].dt.year"
   ]
  },
  {
   "cell_type": "markdown",
   "id": "random-application",
   "metadata": {},
   "source": [
    "Extract the month name component from dteday and save the results in the column mnth"
   ]
  },
  {
   "cell_type": "code",
   "execution_count": 27,
   "id": "academic-stomach",
   "metadata": {},
   "outputs": [],
   "source": [
    "df_cleaned['mnth'] = df_cleaned['dteday'].dt.month_name()"
   ]
  },
  {
   "cell_type": "markdown",
   "id": "baking-application",
   "metadata": {},
   "source": [
    "Extract the day of week component from dteday and save the results in the column weekday"
   ]
  },
  {
   "cell_type": "code",
   "execution_count": 28,
   "id": "written-toddler",
   "metadata": {},
   "outputs": [],
   "source": [
    "df_cleaned['weekday'] = df_cleaned['dteday'].dt.day_name()"
   ]
  },
  {
   "cell_type": "markdown",
   "id": "smooth-romantic",
   "metadata": {},
   "source": [
    "Create a dictionary called season_mapping with the following key-value pairs:"
   ]
  },
  {
   "cell_type": "code",
   "execution_count": 29,
   "id": "duplicate-momentum",
   "metadata": {},
   "outputs": [],
   "source": [
    "season_mapping = {\n",
    "    1: 'winter',\n",
    "    2: 'spring',\n",
    "    3: 'summer',\n",
    "    4: 'autumn',\n",
    "}"
   ]
  },
  {
   "cell_type": "markdown",
   "id": "communist-planner",
   "metadata": {},
   "source": [
    "Remap the values of season to the one specified in season_mapping"
   ]
  },
  {
   "cell_type": "code",
   "execution_count": 30,
   "id": "collective-bangkok",
   "metadata": {},
   "outputs": [],
   "source": [
    "df_cleaned['season'] = df_cleaned['season'].map(season_mapping)"
   ]
  },
  {
   "cell_type": "markdown",
   "id": "friendly-brown",
   "metadata": {},
   "source": [
    " Create a dictionary called weather_mapping with the following key-value pairs:"
   ]
  },
  {
   "cell_type": "code",
   "execution_count": 31,
   "id": "indoor-chess",
   "metadata": {},
   "outputs": [],
   "source": [
    "weather_mapping = {\n",
    "    1: 'clear',\n",
    "    2: 'cloudy',\n",
    "    3: 'rain',\n",
    "    4: 'heavy'\n",
    "}"
   ]
  },
  {
   "cell_type": "markdown",
   "id": "bottom-female",
   "metadata": {},
   "source": [
    "Remap the values of weathersit to the one specified in weather_mapping"
   ]
  },
  {
   "cell_type": "code",
   "execution_count": 32,
   "id": "happy-district",
   "metadata": {},
   "outputs": [],
   "source": [
    "df_cleaned['weathersit'] = df_cleaned['weathersit'].map(weather_mapping)"
   ]
  },
  {
   "cell_type": "markdown",
   "id": "extensive-architect",
   "metadata": {},
   "source": [
    "Change the value of holiday to 1 for the observation where dteday is 2011-01-01"
   ]
  },
  {
   "cell_type": "code",
   "execution_count": 33,
   "id": "hydraulic-reggae",
   "metadata": {},
   "outputs": [],
   "source": [
    "df_cleaned.loc[df_cleaned['dteday'] == '2011-01-01', 'holiday'] = 1"
   ]
  },
  {
   "cell_type": "markdown",
   "id": "about-attempt",
   "metadata": {},
   "source": [
    "Create a new column called `holiday_date` with only missing values and convert this column to datetime"
   ]
  },
  {
   "cell_type": "code",
   "execution_count": 34,
   "id": "psychological-victim",
   "metadata": {},
   "outputs": [],
   "source": [
    "df_cleaned['holidaydate'] = np.nan\n",
    "df_cleaned = convert_to_date(df_cleaned, ['holidaydate'])"
   ]
  },
  {
   "cell_type": "markdown",
   "id": "regulated-things",
   "metadata": {},
   "source": [
    "Create a binary variable called holiday_mask that will state which observations have the value 1 in column holiday"
   ]
  },
  {
   "cell_type": "code",
   "execution_count": 35,
   "id": "excessive-adult",
   "metadata": {},
   "outputs": [],
   "source": [
    "holiday_mask = df_cleaned['holiday'] == 1"
   ]
  },
  {
   "cell_type": "markdown",
   "id": "corrected-violence",
   "metadata": {},
   "source": [
    "Change the values of holidaydate to be equals to dteday for all the observations that have the value 1 in column holiday (use holiday_mask)"
   ]
  },
  {
   "cell_type": "code",
   "execution_count": 36,
   "id": "generous-phrase",
   "metadata": {},
   "outputs": [],
   "source": [
    "df_cleaned.loc[holiday_mask, 'holidaydate'] = df_cleaned.loc[holiday_mask, 'dteday']"
   ]
  },
  {
   "cell_type": "markdown",
   "id": "dutch-scheme",
   "metadata": {},
   "source": [
    "Create a new column called last_holiday that will be equals to holidaydate but with forward filling for missing values"
   ]
  },
  {
   "cell_type": "code",
   "execution_count": 37,
   "id": "located-algorithm",
   "metadata": {},
   "outputs": [],
   "source": [
    "df_cleaned['last_holiday'] = df_cleaned['holidaydate'].fillna(method='ffill')"
   ]
  },
  {
   "cell_type": "markdown",
   "id": "extra-memorabilia",
   "metadata": {},
   "source": [
    "Create a new column called last_holiday that will be equals to holidaydate but with back filling for missing values"
   ]
  },
  {
   "cell_type": "code",
   "execution_count": 38,
   "id": "enormous-maximum",
   "metadata": {},
   "outputs": [],
   "source": [
    "df_cleaned['next_holiday'] = df_cleaned['holidaydate'].fillna(method='bfill')"
   ]
  },
  {
   "cell_type": "markdown",
   "id": "experimental-determination",
   "metadata": {},
   "source": [
    "Replace missing values for next_holiday with the timestamp '2013-01-01`"
   ]
  },
  {
   "cell_type": "code",
   "execution_count": 39,
   "id": "crude-upset",
   "metadata": {},
   "outputs": [],
   "source": [
    "df_cleaned['next_holiday'].fillna(pd.Timestamp('2013-01-01'), inplace=True)"
   ]
  },
  {
   "cell_type": "markdown",
   "id": "quiet-tooth",
   "metadata": {},
   "source": [
    "Calculate the number of days for each observation between the current date and last holiday date. Save the results in a new column called days_last_holiday"
   ]
  },
  {
   "cell_type": "code",
   "execution_count": 40,
   "id": "armed-fleece",
   "metadata": {},
   "outputs": [],
   "source": [
    "df_cleaned['days_last_holiday'] = (df_cleaned['dteday'] - df_cleaned['last_holiday']).dt.days"
   ]
  },
  {
   "cell_type": "markdown",
   "id": "valuable-bouquet",
   "metadata": {},
   "source": [
    "Calculate the number of days for each observation between the current date and next holiday date. Save the results in a new column called days_next_holiday"
   ]
  },
  {
   "cell_type": "code",
   "execution_count": 41,
   "id": "ongoing-building",
   "metadata": {},
   "outputs": [],
   "source": [
    "df_cleaned['days_next_holiday'] = (df_cleaned['next_holiday'] - df_cleaned['dteday']).dt.days"
   ]
  },
  {
   "cell_type": "markdown",
   "id": "drawn-genetics",
   "metadata": {},
   "source": [
    "Create a variable called cat_cols that contains the names of the categorical columns"
   ]
  },
  {
   "cell_type": "code",
   "execution_count": 42,
   "id": "finite-valuable",
   "metadata": {},
   "outputs": [],
   "source": [
    "cat_cols = ['season','mnth','holiday','weekday','workingday','weathersit'] "
   ]
  },
  {
   "cell_type": "markdown",
   "id": "intelligent-treasury",
   "metadata": {},
   "source": [
    "Perform One-Hot encoding on the categorical features"
   ]
  },
  {
   "cell_type": "code",
   "execution_count": 43,
   "id": "fossil-miniature",
   "metadata": {},
   "outputs": [],
   "source": [
    "df_cleaned = pd.get_dummies(df_cleaned, columns=cat_cols)"
   ]
  },
  {
   "cell_type": "markdown",
   "id": "experienced-complexity",
   "metadata": {},
   "source": [
    "Save the dataframe in the /data/interim folder"
   ]
  },
  {
   "cell_type": "code",
   "execution_count": 44,
   "id": "experimental-documentary",
   "metadata": {},
   "outputs": [],
   "source": [
    "df_cleaned.to_csv('../data/interim/day.csv', index=False)"
   ]
  },
  {
   "cell_type": "markdown",
   "id": "collected-interval",
   "metadata": {},
   "source": [
    "Remove the following columns: 'dteday', 'holidaydate', 'last_holiday', 'next_holiday'"
   ]
  },
  {
   "cell_type": "code",
   "execution_count": 45,
   "id": "necessary-watson",
   "metadata": {},
   "outputs": [],
   "source": [
    "df_cleaned.drop(['dteday', 'holidaydate', 'last_holiday', 'next_holiday'], axis=1, inplace=True)"
   ]
  },
  {
   "cell_type": "markdown",
   "id": "future-network",
   "metadata": {},
   "source": [
    "# 4. Split Dataset"
   ]
  },
  {
   "cell_type": "markdown",
   "id": "important-crawford",
   "metadata": {},
   "source": [
    "Import your new function split_sets_by_time and split the data into several sets"
   ]
  },
  {
   "cell_type": "code",
   "execution_count": 61,
   "id": "million-richardson",
   "metadata": {},
   "outputs": [],
   "source": [
    "from src.data.sets import split_sets_by_time\n",
    "\n",
    "X_train, y_train, X_val, y_val, X_test, y_test = split_sets_by_time(df_cleaned, 'cnt', test_ratio=0.2)"
   ]
  },
  {
   "cell_type": "markdown",
   "id": "competent-vegetation",
   "metadata": {},
   "source": [
    "Import your new function and save the sets into the folder data/processed"
   ]
  },
  {
   "cell_type": "code",
   "execution_count": 62,
   "id": "national-identification",
   "metadata": {},
   "outputs": [],
   "source": [
    "from src.data.sets import save_sets\n",
    "\n",
    "save_sets(X_train, y_train, X_val, y_val, X_test, y_test, path='../data/processed/')"
   ]
  },
  {
   "cell_type": "markdown",
   "id": "stable-wrong",
   "metadata": {},
   "source": [
    "# 5. Baseline Model"
   ]
  },
  {
   "cell_type": "markdown",
   "id": "numeric-introduction",
   "metadata": {},
   "source": [
    "Calculate the average of the target variable for the training set and save it into a variable called y_mean"
   ]
  },
  {
   "cell_type": "code",
   "execution_count": 64,
   "id": "collected-durham",
   "metadata": {},
   "outputs": [],
   "source": [
    "y_mean = y_train.mean()"
   ]
  },
  {
   "cell_type": "markdown",
   "id": "chubby-leone",
   "metadata": {},
   "source": [
    "Create a numpy array called y_base of dimensions (len(y_train), 1) filled with this value"
   ]
  },
  {
   "cell_type": "code",
   "execution_count": 65,
   "id": "victorian-sociology",
   "metadata": {},
   "outputs": [],
   "source": [
    "y_base = np.full((len(y_train), 1), y_mean)"
   ]
  },
  {
   "cell_type": "markdown",
   "id": "focused-proposal",
   "metadata": {},
   "source": [
    "Display the RMSE and MAE scores of this baseline model"
   ]
  },
  {
   "cell_type": "code",
   "execution_count": 66,
   "id": "gross-bachelor",
   "metadata": {},
   "outputs": [
    {
     "ename": "ModuleNotFoundError",
     "evalue": "No module named 'sklearn'",
     "output_type": "error",
     "traceback": [
      "\u001b[1;31m---------------------------------------------------------------------------\u001b[0m",
      "\u001b[1;31mModuleNotFoundError\u001b[0m                       Traceback (most recent call last)",
      "\u001b[1;32m<ipython-input-66-d1e4bd29df7a>\u001b[0m in \u001b[0;36m<module>\u001b[1;34m\u001b[0m\n\u001b[0;32m      1\u001b[0m \u001b[1;32mfrom\u001b[0m \u001b[0msrc\u001b[0m\u001b[1;33m.\u001b[0m\u001b[0mmodels\u001b[0m\u001b[1;33m.\u001b[0m\u001b[0mperformance\u001b[0m \u001b[1;32mimport\u001b[0m \u001b[0mprint_reg_perf\u001b[0m\u001b[1;33m\u001b[0m\u001b[1;33m\u001b[0m\u001b[0m\n\u001b[0;32m      2\u001b[0m \u001b[1;33m\u001b[0m\u001b[0m\n\u001b[1;32m----> 3\u001b[1;33m \u001b[0mprint_reg_perf\u001b[0m\u001b[1;33m(\u001b[0m\u001b[0my_preds\u001b[0m\u001b[1;33m=\u001b[0m\u001b[0my_base\u001b[0m\u001b[1;33m,\u001b[0m \u001b[0my_actuals\u001b[0m\u001b[1;33m=\u001b[0m\u001b[0my_train\u001b[0m\u001b[1;33m,\u001b[0m \u001b[0mset_name\u001b[0m\u001b[1;33m=\u001b[0m\u001b[1;34m'Training'\u001b[0m\u001b[1;33m)\u001b[0m\u001b[1;33m\u001b[0m\u001b[1;33m\u001b[0m\u001b[0m\n\u001b[0m",
      "\u001b[1;32mc:\\users\\lenovo\\documents\\mdsi\\0_36114_advanced_ml_for_innovation\\projects\\adv_dsi_lab_2\\src\\models\\performance.py\u001b[0m in \u001b[0;36mprint_reg_perf\u001b[1;34m(y_preds, y_actuals, set_name)\u001b[0m\n\u001b[0;32m     14\u001b[0m     \u001b[1;33m-\u001b[0m\u001b[1;33m-\u001b[0m\u001b[1;33m-\u001b[0m\u001b[1;33m-\u001b[0m\u001b[1;33m-\u001b[0m\u001b[1;33m-\u001b[0m\u001b[1;33m-\u001b[0m\u001b[1;33m\u001b[0m\u001b[1;33m\u001b[0m\u001b[0m\n\u001b[0;32m     15\u001b[0m     \"\"\"\n\u001b[1;32m---> 16\u001b[1;33m     \u001b[1;32mfrom\u001b[0m \u001b[0msklearn\u001b[0m\u001b[1;33m.\u001b[0m\u001b[0mmetrics\u001b[0m \u001b[1;32mimport\u001b[0m \u001b[0mmean_squared_error\u001b[0m \u001b[1;32mas\u001b[0m \u001b[0mmse\u001b[0m\u001b[1;33m\u001b[0m\u001b[1;33m\u001b[0m\u001b[0m\n\u001b[0m\u001b[0;32m     17\u001b[0m     \u001b[1;32mfrom\u001b[0m \u001b[0msklearn\u001b[0m\u001b[1;33m.\u001b[0m\u001b[0mmetrics\u001b[0m \u001b[1;32mimport\u001b[0m \u001b[0mmean_absolute_error\u001b[0m \u001b[1;32mas\u001b[0m \u001b[0mmae\u001b[0m\u001b[1;33m\u001b[0m\u001b[1;33m\u001b[0m\u001b[0m\n\u001b[0;32m     18\u001b[0m \u001b[1;33m\u001b[0m\u001b[0m\n",
      "\u001b[1;31mModuleNotFoundError\u001b[0m: No module named 'sklearn'"
     ]
    }
   ],
   "source": [
    "from src.models.performance import print_reg_perf\n",
    "\n",
    "print_reg_perf(y_preds=y_base, y_actuals=y_train, set_name='Training')"
   ]
  },
  {
   "cell_type": "markdown",
   "id": "another-scheme",
   "metadata": {},
   "source": []
  },
  {
   "cell_type": "code",
   "execution_count": null,
   "id": "ancient-barcelona",
   "metadata": {},
   "outputs": [],
   "source": []
  },
  {
   "cell_type": "markdown",
   "id": "planned-panama",
   "metadata": {},
   "source": []
  },
  {
   "cell_type": "code",
   "execution_count": null,
   "id": "nominated-mailman",
   "metadata": {},
   "outputs": [],
   "source": []
  },
  {
   "cell_type": "markdown",
   "id": "intense-failing",
   "metadata": {},
   "source": []
  },
  {
   "cell_type": "code",
   "execution_count": null,
   "id": "beautiful-memorabilia",
   "metadata": {},
   "outputs": [],
   "source": []
  }
 ],
 "metadata": {
  "kernelspec": {
   "display_name": "Python 3",
   "language": "python",
   "name": "python3"
  },
  "language_info": {
   "codemirror_mode": {
    "name": "ipython",
    "version": 3
   },
   "file_extension": ".py",
   "mimetype": "text/x-python",
   "name": "python",
   "nbconvert_exporter": "python",
   "pygments_lexer": "ipython3",
   "version": "3.8.7"
  }
 },
 "nbformat": 4,
 "nbformat_minor": 5
}
